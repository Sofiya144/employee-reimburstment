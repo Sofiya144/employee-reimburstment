{
 "cells": [
  {
   "cell_type": "code",
   "execution_count": 1,
   "id": "dcd4761d-1d7d-4588-9120-7e6455b55769",
   "metadata": {},
   "outputs": [
    {
     "data": {
      "text/html": [
       "<div>\n",
       "<style scoped>\n",
       "    .dataframe tbody tr th:only-of-type {\n",
       "        vertical-align: middle;\n",
       "    }\n",
       "\n",
       "    .dataframe tbody tr th {\n",
       "        vertical-align: top;\n",
       "    }\n",
       "\n",
       "    .dataframe thead th {\n",
       "        text-align: right;\n",
       "    }\n",
       "</style>\n",
       "<table border=\"1\" class=\"dataframe\">\n",
       "  <thead>\n",
       "    <tr style=\"text-align: right;\">\n",
       "      <th></th>\n",
       "      <th>Year</th>\n",
       "      <th>Type_of_yr</th>\n",
       "      <th>Emp_ID</th>\n",
       "      <th>Income</th>\n",
       "      <th>Other_Income</th>\n",
       "      <th>Overtime</th>\n",
       "      <th>Total_Income</th>\n",
       "      <th>Health_Insurance</th>\n",
       "      <th>Retirement</th>\n",
       "      <th>Other_Benefits</th>\n",
       "      <th>Total_Benefits</th>\n",
       "      <th>Total_Reimbursement</th>\n",
       "    </tr>\n",
       "  </thead>\n",
       "  <tbody>\n",
       "    <tr>\n",
       "      <th>0</th>\n",
       "      <td>2015</td>\n",
       "      <td>Financial</td>\n",
       "      <td>42865</td>\n",
       "      <td>92288.22</td>\n",
       "      <td>267.45</td>\n",
       "      <td>270.45</td>\n",
       "      <td>92826.12</td>\n",
       "      <td>12500.56</td>\n",
       "      <td>20703.20</td>\n",
       "      <td>7605.75</td>\n",
       "      <td>40809.51</td>\n",
       "      <td>133635.63</td>\n",
       "    </tr>\n",
       "    <tr>\n",
       "      <th>1</th>\n",
       "      <td>2015</td>\n",
       "      <td>Calendar</td>\n",
       "      <td>28253</td>\n",
       "      <td>1466.38</td>\n",
       "      <td>0.00</td>\n",
       "      <td>350.23</td>\n",
       "      <td>1816.61</td>\n",
       "      <td>442.03</td>\n",
       "      <td>3.00</td>\n",
       "      <td>141.59</td>\n",
       "      <td>586.62</td>\n",
       "      <td>2403.23</td>\n",
       "    </tr>\n",
       "    <tr>\n",
       "      <th>2</th>\n",
       "      <td>2018</td>\n",
       "      <td>Financial</td>\n",
       "      <td>30664</td>\n",
       "      <td>76536.95</td>\n",
       "      <td>10855.94</td>\n",
       "      <td>13586.72</td>\n",
       "      <td>100979.61</td>\n",
       "      <td>12464.61</td>\n",
       "      <td>18636.19</td>\n",
       "      <td>8011.41</td>\n",
       "      <td>39112.21</td>\n",
       "      <td>140091.82</td>\n",
       "    </tr>\n",
       "    <tr>\n",
       "      <th>3</th>\n",
       "      <td>2018</td>\n",
       "      <td>Financial</td>\n",
       "      <td>19482</td>\n",
       "      <td>45659.88</td>\n",
       "      <td>1625.37</td>\n",
       "      <td>3.00</td>\n",
       "      <td>47288.25</td>\n",
       "      <td>0.00</td>\n",
       "      <td>10084.20</td>\n",
       "      <td>3936.63</td>\n",
       "      <td>14020.83</td>\n",
       "      <td>61309.08</td>\n",
       "    </tr>\n",
       "    <tr>\n",
       "      <th>4</th>\n",
       "      <td>2017</td>\n",
       "      <td>Financial</td>\n",
       "      <td>7183</td>\n",
       "      <td>41832.00</td>\n",
       "      <td>0.00</td>\n",
       "      <td>6.00</td>\n",
       "      <td>41838.00</td>\n",
       "      <td>5908.52</td>\n",
       "      <td>7621.60</td>\n",
       "      <td>3254.50</td>\n",
       "      <td>16784.62</td>\n",
       "      <td>58622.62</td>\n",
       "    </tr>\n",
       "    <tr>\n",
       "      <th>5</th>\n",
       "      <td>2017</td>\n",
       "      <td>Calendar</td>\n",
       "      <td>50436</td>\n",
       "      <td>74132.00</td>\n",
       "      <td>1443.42</td>\n",
       "      <td>4.00</td>\n",
       "      <td>75579.42</td>\n",
       "      <td>12888.34</td>\n",
       "      <td>14855.23</td>\n",
       "      <td>6233.85</td>\n",
       "      <td>33977.42</td>\n",
       "      <td>109556.84</td>\n",
       "    </tr>\n",
       "    <tr>\n",
       "      <th>6</th>\n",
       "      <td>2018</td>\n",
       "      <td>Financial</td>\n",
       "      <td>35659</td>\n",
       "      <td>101535.10</td>\n",
       "      <td>0.00</td>\n",
       "      <td>8.00</td>\n",
       "      <td>101543.10</td>\n",
       "      <td>12512.55</td>\n",
       "      <td>21650.32</td>\n",
       "      <td>7915.08</td>\n",
       "      <td>42077.95</td>\n",
       "      <td>143621.05</td>\n",
       "    </tr>\n",
       "    <tr>\n",
       "      <th>7</th>\n",
       "      <td>2018</td>\n",
       "      <td>Calendar</td>\n",
       "      <td>38092</td>\n",
       "      <td>109163.02</td>\n",
       "      <td>4366.49</td>\n",
       "      <td>4.00</td>\n",
       "      <td>113533.51</td>\n",
       "      <td>13054.94</td>\n",
       "      <td>24252.92</td>\n",
       "      <td>9076.15</td>\n",
       "      <td>46384.01</td>\n",
       "      <td>159917.52</td>\n",
       "    </tr>\n",
       "    <tr>\n",
       "      <th>8</th>\n",
       "      <td>2015</td>\n",
       "      <td>Financial</td>\n",
       "      <td>27247</td>\n",
       "      <td>66232.32</td>\n",
       "      <td>2069.97</td>\n",
       "      <td>6810.80</td>\n",
       "      <td>75113.09</td>\n",
       "      <td>13259.64</td>\n",
       "      <td>20284.69</td>\n",
       "      <td>5877.41</td>\n",
       "      <td>39421.74</td>\n",
       "      <td>114534.83</td>\n",
       "    </tr>\n",
       "    <tr>\n",
       "      <th>9</th>\n",
       "      <td>2018</td>\n",
       "      <td>Financial</td>\n",
       "      <td>46326</td>\n",
       "      <td>53979.94</td>\n",
       "      <td>25.00</td>\n",
       "      <td>7207.89</td>\n",
       "      <td>61212.83</td>\n",
       "      <td>12512.55</td>\n",
       "      <td>11517.86</td>\n",
       "      <td>5028.71</td>\n",
       "      <td>29059.12</td>\n",
       "      <td>90271.95</td>\n",
       "    </tr>\n",
       "  </tbody>\n",
       "</table>\n",
       "</div>"
      ],
      "text/plain": [
       "   Year Type_of_yr  Emp_ID     Income  Other_Income  Overtime  Total_Income  \\\n",
       "0  2015  Financial   42865   92288.22        267.45    270.45      92826.12   \n",
       "1  2015   Calendar   28253    1466.38          0.00    350.23       1816.61   \n",
       "2  2018  Financial   30664   76536.95      10855.94  13586.72     100979.61   \n",
       "3  2018  Financial   19482   45659.88       1625.37      3.00      47288.25   \n",
       "4  2017  Financial    7183   41832.00          0.00      6.00      41838.00   \n",
       "5  2017   Calendar   50436   74132.00       1443.42      4.00      75579.42   \n",
       "6  2018  Financial   35659  101535.10          0.00      8.00     101543.10   \n",
       "7  2018   Calendar   38092  109163.02       4366.49      4.00     113533.51   \n",
       "8  2015  Financial   27247   66232.32       2069.97   6810.80      75113.09   \n",
       "9  2018  Financial   46326   53979.94         25.00   7207.89      61212.83   \n",
       "\n",
       "   Health_Insurance  Retirement  Other_Benefits  Total_Benefits  \\\n",
       "0          12500.56    20703.20         7605.75        40809.51   \n",
       "1            442.03        3.00          141.59          586.62   \n",
       "2          12464.61    18636.19         8011.41        39112.21   \n",
       "3              0.00    10084.20         3936.63        14020.83   \n",
       "4           5908.52     7621.60         3254.50        16784.62   \n",
       "5          12888.34    14855.23         6233.85        33977.42   \n",
       "6          12512.55    21650.32         7915.08        42077.95   \n",
       "7          13054.94    24252.92         9076.15        46384.01   \n",
       "8          13259.64    20284.69         5877.41        39421.74   \n",
       "9          12512.55    11517.86         5028.71        29059.12   \n",
       "\n",
       "   Total_Reimbursement  \n",
       "0            133635.63  \n",
       "1              2403.23  \n",
       "2            140091.82  \n",
       "3             61309.08  \n",
       "4             58622.62  \n",
       "5            109556.84  \n",
       "6            143621.05  \n",
       "7            159917.52  \n",
       "8            114534.83  \n",
       "9             90271.95  "
      ]
     },
     "execution_count": 1,
     "metadata": {},
     "output_type": "execute_result"
    }
   ],
   "source": [
    "import pandas as pd\n",
    "df=pd.read_csv('E:\\Dataset\\Emp_reimb.csv')\n",
    "df.head(10)"
   ]
  },
  {
   "cell_type": "code",
   "execution_count": 2,
   "id": "da4eba2e-d483-49a5-9764-282ef0d11929",
   "metadata": {},
   "outputs": [],
   "source": [
    "df1=df.copy()"
   ]
  },
  {
   "cell_type": "code",
   "execution_count": 3,
   "id": "6463f06b-bf75-4e79-bf36-d779f26b6dc9",
   "metadata": {},
   "outputs": [
    {
     "name": "stdout",
     "output_type": "stream",
     "text": [
      "<class 'pandas.core.frame.DataFrame'>\n",
      "RangeIndex: 49794 entries, 0 to 49793\n",
      "Data columns (total 12 columns):\n",
      " #   Column               Non-Null Count  Dtype  \n",
      "---  ------               --------------  -----  \n",
      " 0   Year                 49794 non-null  int64  \n",
      " 1   Type_of_yr           49794 non-null  object \n",
      " 2   Emp_ID               49794 non-null  int64  \n",
      " 3   Income               49794 non-null  float64\n",
      " 4   Other_Income         49794 non-null  float64\n",
      " 5   Overtime             49794 non-null  float64\n",
      " 6   Total_Income         49794 non-null  float64\n",
      " 7   Health_Insurance     49794 non-null  float64\n",
      " 8   Retirement           49794 non-null  float64\n",
      " 9   Other_Benefits       49794 non-null  float64\n",
      " 10  Total_Benefits       49794 non-null  float64\n",
      " 11  Total_Reimbursement  49794 non-null  float64\n",
      "dtypes: float64(9), int64(2), object(1)\n",
      "memory usage: 4.6+ MB\n"
     ]
    }
   ],
   "source": [
    "df1.info()"
   ]
  },
  {
   "cell_type": "code",
   "execution_count": 4,
   "id": "5d3fc241-ea1c-45c1-975c-220107938740",
   "metadata": {},
   "outputs": [
    {
     "data": {
      "text/plain": [
       "Year                   0\n",
       "Type_of_yr             0\n",
       "Emp_ID                 0\n",
       "Income                 0\n",
       "Other_Income           0\n",
       "Overtime               0\n",
       "Total_Income           0\n",
       "Health_Insurance       0\n",
       "Retirement             0\n",
       "Other_Benefits         0\n",
       "Total_Benefits         0\n",
       "Total_Reimbursement    0\n",
       "dtype: int64"
      ]
     },
     "execution_count": 4,
     "metadata": {},
     "output_type": "execute_result"
    }
   ],
   "source": [
    "df1.isnull().sum() "
   ]
  },
  {
   "cell_type": "code",
   "execution_count": 5,
   "id": "ee99e943-2a5b-4227-a994-7c3daf079100",
   "metadata": {},
   "outputs": [],
   "source": [
    "df1.drop(columns=['Emp_ID'],inplace=True)\n"
   ]
  },
  {
   "cell_type": "code",
   "execution_count": 6,
   "id": "8371188a-1cfe-4ad7-9acf-e9f6c2a42648",
   "metadata": {},
   "outputs": [
    {
     "data": {
      "text/plain": [
       "(49794, 11)"
      ]
     },
     "execution_count": 6,
     "metadata": {},
     "output_type": "execute_result"
    }
   ],
   "source": [
    "df1.shape"
   ]
  },
  {
   "cell_type": "code",
   "execution_count": 7,
   "id": "24ea16ab-d4e1-4db5-b407-5e6a78723ae2",
   "metadata": {},
   "outputs": [
    {
     "data": {
      "text/html": [
       "<div>\n",
       "<style scoped>\n",
       "    .dataframe tbody tr th:only-of-type {\n",
       "        vertical-align: middle;\n",
       "    }\n",
       "\n",
       "    .dataframe tbody tr th {\n",
       "        vertical-align: top;\n",
       "    }\n",
       "\n",
       "    .dataframe thead th {\n",
       "        text-align: right;\n",
       "    }\n",
       "</style>\n",
       "<table border=\"1\" class=\"dataframe\">\n",
       "  <thead>\n",
       "    <tr style=\"text-align: right;\">\n",
       "      <th></th>\n",
       "      <th>Year</th>\n",
       "      <th>Income</th>\n",
       "      <th>Other_Income</th>\n",
       "      <th>Overtime</th>\n",
       "      <th>Total_Income</th>\n",
       "      <th>Health_Insurance</th>\n",
       "      <th>Retirement</th>\n",
       "      <th>Other_Benefits</th>\n",
       "      <th>Total_Benefits</th>\n",
       "      <th>Total_Reimbursement</th>\n",
       "    </tr>\n",
       "  </thead>\n",
       "  <tbody>\n",
       "    <tr>\n",
       "      <th>count</th>\n",
       "      <td>49794.000000</td>\n",
       "      <td>49794.000000</td>\n",
       "      <td>49794.000000</td>\n",
       "      <td>49794.000000</td>\n",
       "      <td>49794.000000</td>\n",
       "      <td>49794.000000</td>\n",
       "      <td>49794.000000</td>\n",
       "      <td>49794.000000</td>\n",
       "      <td>49794.000000</td>\n",
       "      <td>49794.000000</td>\n",
       "    </tr>\n",
       "    <tr>\n",
       "      <th>mean</th>\n",
       "      <td>2016.542013</td>\n",
       "      <td>63412.242050</td>\n",
       "      <td>3725.119205</td>\n",
       "      <td>4382.829359</td>\n",
       "      <td>71520.190613</td>\n",
       "      <td>8932.934546</td>\n",
       "      <td>12972.699476</td>\n",
       "      <td>4669.307188</td>\n",
       "      <td>26574.941210</td>\n",
       "      <td>98095.131823</td>\n",
       "    </tr>\n",
       "    <tr>\n",
       "      <th>std</th>\n",
       "      <td>1.183712</td>\n",
       "      <td>44753.458883</td>\n",
       "      <td>7486.642061</td>\n",
       "      <td>11100.032711</td>\n",
       "      <td>52228.329948</td>\n",
       "      <td>4890.384130</td>\n",
       "      <td>9803.285867</td>\n",
       "      <td>3785.813122</td>\n",
       "      <td>16804.219299</td>\n",
       "      <td>67791.568974</td>\n",
       "    </tr>\n",
       "    <tr>\n",
       "      <th>min</th>\n",
       "      <td>2015.000000</td>\n",
       "      <td>0.000000</td>\n",
       "      <td>0.000000</td>\n",
       "      <td>2.000000</td>\n",
       "      <td>2.000000</td>\n",
       "      <td>0.000000</td>\n",
       "      <td>0.270000</td>\n",
       "      <td>0.000000</td>\n",
       "      <td>2.990000</td>\n",
       "      <td>5.310000</td>\n",
       "    </tr>\n",
       "    <tr>\n",
       "      <th>25%</th>\n",
       "      <td>2015.000000</td>\n",
       "      <td>23752.425000</td>\n",
       "      <td>0.000000</td>\n",
       "      <td>5.000000</td>\n",
       "      <td>25635.925000</td>\n",
       "      <td>4339.617500</td>\n",
       "      <td>3680.890000</td>\n",
       "      <td>1617.325000</td>\n",
       "      <td>9832.992500</td>\n",
       "      <td>36388.335000</td>\n",
       "    </tr>\n",
       "    <tr>\n",
       "      <th>50%</th>\n",
       "      <td>2017.000000</td>\n",
       "      <td>62628.605000</td>\n",
       "      <td>649.385000</td>\n",
       "      <td>8.000000</td>\n",
       "      <td>68007.105000</td>\n",
       "      <td>12000.500000</td>\n",
       "      <td>13181.170000</td>\n",
       "      <td>4377.750000</td>\n",
       "      <td>30320.645000</td>\n",
       "      <td>98133.970000</td>\n",
       "    </tr>\n",
       "    <tr>\n",
       "      <th>75%</th>\n",
       "      <td>2018.000000</td>\n",
       "      <td>93124.830000</td>\n",
       "      <td>4494.062500</td>\n",
       "      <td>2692.230000</td>\n",
       "      <td>103031.792500</td>\n",
       "      <td>12801.790000</td>\n",
       "      <td>19610.367500</td>\n",
       "      <td>6864.430000</td>\n",
       "      <td>38741.512500</td>\n",
       "      <td>141968.395000</td>\n",
       "    </tr>\n",
       "    <tr>\n",
       "      <th>max</th>\n",
       "      <td>2018.000000</td>\n",
       "      <td>507831.600000</td>\n",
       "      <td>199112.350000</td>\n",
       "      <td>208671.820000</td>\n",
       "      <td>507838.600000</td>\n",
       "      <td>21291.180000</td>\n",
       "      <td>105055.980000</td>\n",
       "      <td>34108.750000</td>\n",
       "      <td>141046.640000</td>\n",
       "      <td>648885.240000</td>\n",
       "    </tr>\n",
       "  </tbody>\n",
       "</table>\n",
       "</div>"
      ],
      "text/plain": [
       "               Year         Income   Other_Income       Overtime  \\\n",
       "count  49794.000000   49794.000000   49794.000000   49794.000000   \n",
       "mean    2016.542013   63412.242050    3725.119205    4382.829359   \n",
       "std        1.183712   44753.458883    7486.642061   11100.032711   \n",
       "min     2015.000000       0.000000       0.000000       2.000000   \n",
       "25%     2015.000000   23752.425000       0.000000       5.000000   \n",
       "50%     2017.000000   62628.605000     649.385000       8.000000   \n",
       "75%     2018.000000   93124.830000    4494.062500    2692.230000   \n",
       "max     2018.000000  507831.600000  199112.350000  208671.820000   \n",
       "\n",
       "        Total_Income  Health_Insurance     Retirement  Other_Benefits  \\\n",
       "count   49794.000000      49794.000000   49794.000000    49794.000000   \n",
       "mean    71520.190613       8932.934546   12972.699476     4669.307188   \n",
       "std     52228.329948       4890.384130    9803.285867     3785.813122   \n",
       "min         2.000000          0.000000       0.270000        0.000000   \n",
       "25%     25635.925000       4339.617500    3680.890000     1617.325000   \n",
       "50%     68007.105000      12000.500000   13181.170000     4377.750000   \n",
       "75%    103031.792500      12801.790000   19610.367500     6864.430000   \n",
       "max    507838.600000      21291.180000  105055.980000    34108.750000   \n",
       "\n",
       "       Total_Benefits  Total_Reimbursement  \n",
       "count    49794.000000         49794.000000  \n",
       "mean     26574.941210         98095.131823  \n",
       "std      16804.219299         67791.568974  \n",
       "min          2.990000             5.310000  \n",
       "25%       9832.992500         36388.335000  \n",
       "50%      30320.645000         98133.970000  \n",
       "75%      38741.512500        141968.395000  \n",
       "max     141046.640000        648885.240000  "
      ]
     },
     "execution_count": 7,
     "metadata": {},
     "output_type": "execute_result"
    }
   ],
   "source": [
    "df1.describe()"
   ]
  },
  {
   "cell_type": "code",
   "execution_count": 8,
   "id": "13ae5549-a2dd-4049-a49f-7d02694ee720",
   "metadata": {},
   "outputs": [
    {
     "data": {
      "text/plain": [
       "Year                     int64\n",
       "Type_of_yr              object\n",
       "Income                 float64\n",
       "Other_Income           float64\n",
       "Overtime               float64\n",
       "Total_Income           float64\n",
       "Health_Insurance       float64\n",
       "Retirement             float64\n",
       "Other_Benefits         float64\n",
       "Total_Benefits         float64\n",
       "Total_Reimbursement    float64\n",
       "dtype: object"
      ]
     },
     "execution_count": 8,
     "metadata": {},
     "output_type": "execute_result"
    }
   ],
   "source": [
    "df1.dtypes"
   ]
  },
  {
   "cell_type": "code",
   "execution_count": 9,
   "id": "f2b74e5b-530a-418b-81e4-c56d5f8772e2",
   "metadata": {},
   "outputs": [
    {
     "data": {
      "text/plain": [
       "Type_of_yr\n",
       "Financial    28544\n",
       "Calendar     21250\n",
       "Name: count, dtype: int64"
      ]
     },
     "execution_count": 9,
     "metadata": {},
     "output_type": "execute_result"
    }
   ],
   "source": [
    "df1.Type_of_yr.value_counts()"
   ]
  },
  {
   "cell_type": "code",
   "execution_count": 10,
   "id": "851dcbd0-3459-4838-98a6-63170a2411be",
   "metadata": {},
   "outputs": [
    {
     "data": {
      "text/plain": [
       "Year                   0\n",
       "Type_of_yr             0\n",
       "Income                 0\n",
       "Other_Income           0\n",
       "Overtime               0\n",
       "Total_Income           0\n",
       "Health_Insurance       0\n",
       "Retirement             0\n",
       "Other_Benefits         0\n",
       "Total_Benefits         0\n",
       "Total_Reimbursement    0\n",
       "dtype: int64"
      ]
     },
     "execution_count": 10,
     "metadata": {},
     "output_type": "execute_result"
    }
   ],
   "source": [
    "df1.isnull().sum()"
   ]
  },
  {
   "cell_type": "code",
   "execution_count": 11,
   "id": "319aef5b-75a4-4f76-b3de-11fe49eef60a",
   "metadata": {},
   "outputs": [],
   "source": [
    "# df1_num1=df1_num.iloc[:,1:-1]\n",
    "# df1_num1.head(3)"
   ]
  },
  {
   "cell_type": "code",
   "execution_count": 12,
   "id": "4d7f2baa-9cbd-4d1b-82f1-da9bc6fdf72e",
   "metadata": {},
   "outputs": [],
   "source": [
    "# df1_num1.Income.mean()"
   ]
  },
  {
   "cell_type": "code",
   "execution_count": 13,
   "id": "90871751-9421-4ec2-beba-8bc784bee97c",
   "metadata": {},
   "outputs": [
    {
     "name": "stdout",
     "output_type": "stream",
     "text": [
      "Requirement already satisfied: scikit-learn in c:\\users\\sozha\\appdata\\local\\programs\\python\\python311\\lib\\site-packages (1.3.0)\n",
      "Requirement already satisfied: numpy>=1.17.3 in c:\\users\\sozha\\appdata\\local\\programs\\python\\python311\\lib\\site-packages (from scikit-learn) (1.25.2)\n",
      "Requirement already satisfied: scipy>=1.5.0 in c:\\users\\sozha\\appdata\\local\\programs\\python\\python311\\lib\\site-packages (from scikit-learn) (1.11.2)\n",
      "Requirement already satisfied: joblib>=1.1.1 in c:\\users\\sozha\\appdata\\local\\programs\\python\\python311\\lib\\site-packages (from scikit-learn) (1.3.2)\n",
      "Requirement already satisfied: threadpoolctl>=2.0.0 in c:\\users\\sozha\\appdata\\local\\programs\\python\\python311\\lib\\site-packages (from scikit-learn) (3.2.0)\n",
      "Note: you may need to restart the kernel to use updated packages.\n"
     ]
    },
    {
     "name": "stderr",
     "output_type": "stream",
     "text": [
      "\n",
      "[notice] A new release of pip is available: 23.1.2 -> 23.2.1\n",
      "[notice] To update, run: python.exe -m pip install --upgrade pip\n"
     ]
    }
   ],
   "source": [
    "pip install -U scikit-learn\n"
   ]
  },
  {
   "cell_type": "code",
   "execution_count": 14,
   "id": "c5968a52-8b44-4652-a08c-1c5e4703bfab",
   "metadata": {},
   "outputs": [],
   "source": [
    "# from sklearn.preprocessing import MinMaxScaler\n",
    "# sc=MinMaxScaler()\n",
    "# df1_num1_sc=pd.DataFrame(sc.fit_transform(df1_num1),columns=df1_num1.columns)\n",
    "# df1_num1_sc.head(3)"
   ]
  },
  {
   "cell_type": "code",
   "execution_count": 15,
   "id": "eebb31cb-89cf-45ac-a303-21ebd6ea1e13",
   "metadata": {
    "scrolled": true
   },
   "outputs": [],
   "source": [
    "# df1.Type_of_yr"
   ]
  },
  {
   "cell_type": "code",
   "execution_count": 16,
   "id": "39997e45-b6fc-4dc7-a38e-f09ff9446d51",
   "metadata": {},
   "outputs": [
    {
     "data": {
      "text/plain": [
       "array(['Financial', 'Calendar'], dtype=object)"
      ]
     },
     "execution_count": 16,
     "metadata": {},
     "output_type": "execute_result"
    }
   ],
   "source": [
    "df1['Type_of_yr'].unique()"
   ]
  },
  {
   "cell_type": "code",
   "execution_count": 17,
   "id": "2aae90f5-8d55-4b6d-80c6-6c37ac7b87c8",
   "metadata": {},
   "outputs": [],
   "source": [
    "from sklearn.preprocessing import LabelEncoder"
   ]
  },
  {
   "cell_type": "code",
   "execution_count": 18,
   "id": "7e6d0102-9710-4fbb-b4c7-6606e8e3dc42",
   "metadata": {},
   "outputs": [],
   "source": [
    "label_encode=LabelEncoder()\n",
    "df1[\"Type_of_yr\"]=label_encode.fit_transform(df1[\"Type_of_yr\"])"
   ]
  },
  {
   "cell_type": "code",
   "execution_count": 19,
   "id": "61eb65d4-f649-426c-9b50-b47c877a2d8e",
   "metadata": {},
   "outputs": [
    {
     "data": {
      "text/plain": [
       "Type_of_yr\n",
       "1    28544\n",
       "0    21250\n",
       "Name: count, dtype: int64"
      ]
     },
     "execution_count": 19,
     "metadata": {},
     "output_type": "execute_result"
    }
   ],
   "source": [
    "df1[\"Type_of_yr\"].value_counts()"
   ]
  },
  {
   "cell_type": "code",
   "execution_count": 20,
   "id": "f04b9d18-4d60-4263-b8e6-79bc39412be7",
   "metadata": {},
   "outputs": [
    {
     "data": {
      "text/plain": [
       "0    1\n",
       "1    0\n",
       "2    1\n",
       "3    1\n",
       "4    1\n",
       "Name: Type_of_yr, dtype: int32"
      ]
     },
     "execution_count": 20,
     "metadata": {},
     "output_type": "execute_result"
    }
   ],
   "source": [
    "df1[\"Type_of_yr\"].head()"
   ]
  },
  {
   "cell_type": "code",
   "execution_count": 21,
   "id": "a96d116c-c611-4a90-b48c-a08f9e51b41a",
   "metadata": {},
   "outputs": [],
   "source": [
    "X = df1.drop(columns=['Total_Benefits'], axis=1)\n",
    "y = df1['Total_Benefits']"
   ]
  },
  {
   "cell_type": "code",
   "execution_count": 22,
   "id": "41c290fc-b9d3-452e-96a7-59955b53d627",
   "metadata": {},
   "outputs": [
    {
     "data": {
      "text/plain": [
       "((34855, 10), (14939, 10), (34855,), (14939,))"
      ]
     },
     "execution_count": 22,
     "metadata": {},
     "output_type": "execute_result"
    }
   ],
   "source": [
    "from sklearn.model_selection import train_test_split\n",
    "x_train,x_test,y_train,y_test=train_test_split(X,y,test_size=0.3,random_state=42)\n",
    "x_train.shape,x_test.shape,y_train.shape,y_test.shape "
   ]
  },
  {
   "cell_type": "code",
   "execution_count": 23,
   "id": "948730cd-e219-4532-b8aa-b452a279a049",
   "metadata": {},
   "outputs": [],
   "source": [
    "from sklearn.preprocessing import MinMaxScaler\n",
    "sc=MinMaxScaler()\n",
    "x_train = sc.fit_transform(x_train)\n",
    "x_test = sc.transform(x_test)"
   ]
  },
  {
   "cell_type": "code",
   "execution_count": 25,
   "id": "f5d6c5dc-f939-4710-be91-b8bb5e281dfa",
   "metadata": {},
   "outputs": [
    {
     "data": {
      "text/plain": [
       "array([[6.66666667e-01, 1.00000000e+00, 1.61451255e-03, ...,\n",
       "        4.12067635e-05, 1.17301279e-03, 1.13660256e-03],\n",
       "       [1.00000000e+00, 1.00000000e+00, 2.05565049e-01, ...,\n",
       "        2.28759121e-01, 1.87272474e-01, 2.33228120e-01],\n",
       "       [3.33333333e-01, 1.00000000e+00, 4.86206254e-01, ...,\n",
       "        4.43260551e-01, 3.13486422e-01, 4.50937926e-01],\n",
       "       ...,\n",
       "       [0.00000000e+00, 1.00000000e+00, 2.26682758e-01, ...,\n",
       "        2.40796930e-01, 1.68294646e-01, 2.11674751e-01],\n",
       "       [0.00000000e+00, 1.00000000e+00, 1.78361477e-01, ...,\n",
       "        1.89478510e-01, 1.40889361e-01, 1.84794657e-01],\n",
       "       [6.66666667e-01, 0.00000000e+00, 9.67368612e-03, ...,\n",
       "        8.38187832e-03, 7.81822846e-03, 9.51720207e-03]])"
      ]
     },
     "execution_count": 25,
     "metadata": {},
     "output_type": "execute_result"
    }
   ],
   "source": [
    "x_test"
   ]
  },
  {
   "cell_type": "code",
   "execution_count": null,
   "id": "48ab78f3-62d9-4c48-8c67-b2c7bafb224d",
   "metadata": {},
   "outputs": [],
   "source": [
    "y_test.head()"
   ]
  },
  {
   "cell_type": "code",
   "execution_count": null,
   "id": "085399f7-be32-421f-9976-e7cb62898b6f",
   "metadata": {},
   "outputs": [],
   "source": [
    "x_train.shape,x_test.shape,y_train.shape,y_test.shape"
   ]
  },
  {
   "cell_type": "code",
   "execution_count": null,
   "id": "1d9aac10-c83b-469a-a90f-b88a8c3fc2e3",
   "metadata": {},
   "outputs": [],
   "source": [
    "x_train.head(10)"
   ]
  },
  {
   "cell_type": "code",
   "execution_count": null,
   "id": "1560df63-0520-4184-99d6-903291dc4f11",
   "metadata": {},
   "outputs": [],
   "source": [
    "pip install statsmodels"
   ]
  },
  {
   "cell_type": "code",
   "execution_count": null,
   "id": "e75ebafa-4aea-4360-bca8-5a42bb304e0e",
   "metadata": {},
   "outputs": [],
   "source": [
    "!pip install numpy\n",
    "import numpy as np"
   ]
  },
  {
   "cell_type": "code",
   "execution_count": null,
   "id": "cd3e664c-096e-4042-acf7-41842cb39f8d",
   "metadata": {},
   "outputs": [],
   "source": [
    "df1.head()"
   ]
  },
  {
   "cell_type": "code",
   "execution_count": 36,
   "id": "ef8e1da0-6686-45b8-be28-f895382385f3",
   "metadata": {},
   "outputs": [],
   "source": [
    "import statsmodels.api as sm\n"
   ]
  },
  {
   "cell_type": "code",
   "execution_count": 37,
   "id": "617da4e0-4941-42b0-8f8c-0e57929f74d8",
   "metadata": {},
   "outputs": [
    {
     "name": "stdout",
     "output_type": "stream",
     "text": [
      "                            OLS Regression Results                            \n",
      "==============================================================================\n",
      "Dep. Variable:         Total_Benefits   R-squared:                       1.000\n",
      "Model:                            OLS   Adj. R-squared:                  1.000\n",
      "Method:                 Least Squares   F-statistic:                 9.977e+27\n",
      "Date:                Mon, 04 Sep 2023   Prob (F-statistic):               0.00\n",
      "Time:                        14:38:51   Log-Likelihood:             5.8891e+05\n",
      "No. Observations:               34855   AIC:                        -1.178e+06\n",
      "Df Residuals:                   34846   BIC:                        -1.178e+06\n",
      "Df Model:                           8                                         \n",
      "Covariance Type:            nonrobust                                         \n",
      "==============================================================================\n",
      "                 coef    std err          t      P>|t|      [0.025      0.975]\n",
      "------------------------------------------------------------------------------\n",
      "x1         -3.506e-11   1.52e-10     -0.231      0.817   -3.32e-10    2.62e-10\n",
      "x2         -1.553e-11   1.21e-10     -0.128      0.898   -2.53e-10    2.22e-10\n",
      "x3          1.297e+04   7.95e-06   1.63e+09      0.000     1.3e+04     1.3e+04\n",
      "x4          8229.8418   5.05e-06   1.63e+09      0.000    8229.842    8229.842\n",
      "x5          8624.8774   5.29e-06   1.63e+09      0.000    8624.877    8624.877\n",
      "x6          1.888e+04   1.16e-05   1.63e+09      0.000    1.89e+04    1.89e+04\n",
      "x7          2.318e+04   1.16e-06      2e+10      0.000    2.32e+04    2.32e+04\n",
      "x8          7.214e+04   3.61e-06      2e+10      0.000    7.21e+04    7.21e+04\n",
      "x9          3.714e+04   1.86e-06      2e+10      0.000    3.71e+04    3.71e+04\n",
      "x10        -4.268e+04   2.62e-05  -1.63e+09      0.000   -4.27e+04   -4.27e+04\n",
      "==============================================================================\n",
      "Omnibus:                      963.207   Durbin-Watson:                   0.632\n",
      "Prob(Omnibus):                  0.000   Jarque-Bera (JB):              783.081\n",
      "Skew:                          -0.292   Prob(JB):                    9.04e-171\n",
      "Kurtosis:                       2.555   Cond. No.                     6.60e+15\n",
      "==============================================================================\n",
      "\n",
      "Notes:\n",
      "[1] Standard Errors assume that the covariance matrix of the errors is correctly specified.\n",
      "[2] The smallest eigenvalue is 8.84e-28. This might indicate that there are\n",
      "strong multicollinearity problems or that the design matrix is singular.\n"
     ]
    }
   ],
   "source": [
    "MLR_model1=sm.OLS(y_train,x_train).fit()\n",
    "print(MLR_model1.summary())"
   ]
  },
  {
   "cell_type": "code",
   "execution_count": 26,
   "id": "b8799180-7716-4e8e-9980-c42b258b86fe",
   "metadata": {},
   "outputs": [],
   "source": [
    "from sklearn.linear_model import LinearRegression"
   ]
  },
  {
   "cell_type": "code",
   "execution_count": 27,
   "id": "801d1d63-933a-42c1-bc2e-242f9d6202c3",
   "metadata": {},
   "outputs": [
    {
     "data": {
      "text/html": [
       "<style>#sk-container-id-1 {color: black;}#sk-container-id-1 pre{padding: 0;}#sk-container-id-1 div.sk-toggleable {background-color: white;}#sk-container-id-1 label.sk-toggleable__label {cursor: pointer;display: block;width: 100%;margin-bottom: 0;padding: 0.3em;box-sizing: border-box;text-align: center;}#sk-container-id-1 label.sk-toggleable__label-arrow:before {content: \"▸\";float: left;margin-right: 0.25em;color: #696969;}#sk-container-id-1 label.sk-toggleable__label-arrow:hover:before {color: black;}#sk-container-id-1 div.sk-estimator:hover label.sk-toggleable__label-arrow:before {color: black;}#sk-container-id-1 div.sk-toggleable__content {max-height: 0;max-width: 0;overflow: hidden;text-align: left;background-color: #f0f8ff;}#sk-container-id-1 div.sk-toggleable__content pre {margin: 0.2em;color: black;border-radius: 0.25em;background-color: #f0f8ff;}#sk-container-id-1 input.sk-toggleable__control:checked~div.sk-toggleable__content {max-height: 200px;max-width: 100%;overflow: auto;}#sk-container-id-1 input.sk-toggleable__control:checked~label.sk-toggleable__label-arrow:before {content: \"▾\";}#sk-container-id-1 div.sk-estimator input.sk-toggleable__control:checked~label.sk-toggleable__label {background-color: #d4ebff;}#sk-container-id-1 div.sk-label input.sk-toggleable__control:checked~label.sk-toggleable__label {background-color: #d4ebff;}#sk-container-id-1 input.sk-hidden--visually {border: 0;clip: rect(1px 1px 1px 1px);clip: rect(1px, 1px, 1px, 1px);height: 1px;margin: -1px;overflow: hidden;padding: 0;position: absolute;width: 1px;}#sk-container-id-1 div.sk-estimator {font-family: monospace;background-color: #f0f8ff;border: 1px dotted black;border-radius: 0.25em;box-sizing: border-box;margin-bottom: 0.5em;}#sk-container-id-1 div.sk-estimator:hover {background-color: #d4ebff;}#sk-container-id-1 div.sk-parallel-item::after {content: \"\";width: 100%;border-bottom: 1px solid gray;flex-grow: 1;}#sk-container-id-1 div.sk-label:hover label.sk-toggleable__label {background-color: #d4ebff;}#sk-container-id-1 div.sk-serial::before {content: \"\";position: absolute;border-left: 1px solid gray;box-sizing: border-box;top: 0;bottom: 0;left: 50%;z-index: 0;}#sk-container-id-1 div.sk-serial {display: flex;flex-direction: column;align-items: center;background-color: white;padding-right: 0.2em;padding-left: 0.2em;position: relative;}#sk-container-id-1 div.sk-item {position: relative;z-index: 1;}#sk-container-id-1 div.sk-parallel {display: flex;align-items: stretch;justify-content: center;background-color: white;position: relative;}#sk-container-id-1 div.sk-item::before, #sk-container-id-1 div.sk-parallel-item::before {content: \"\";position: absolute;border-left: 1px solid gray;box-sizing: border-box;top: 0;bottom: 0;left: 50%;z-index: -1;}#sk-container-id-1 div.sk-parallel-item {display: flex;flex-direction: column;z-index: 1;position: relative;background-color: white;}#sk-container-id-1 div.sk-parallel-item:first-child::after {align-self: flex-end;width: 50%;}#sk-container-id-1 div.sk-parallel-item:last-child::after {align-self: flex-start;width: 50%;}#sk-container-id-1 div.sk-parallel-item:only-child::after {width: 0;}#sk-container-id-1 div.sk-dashed-wrapped {border: 1px dashed gray;margin: 0 0.4em 0.5em 0.4em;box-sizing: border-box;padding-bottom: 0.4em;background-color: white;}#sk-container-id-1 div.sk-label label {font-family: monospace;font-weight: bold;display: inline-block;line-height: 1.2em;}#sk-container-id-1 div.sk-label-container {text-align: center;}#sk-container-id-1 div.sk-container {/* jupyter's `normalize.less` sets `[hidden] { display: none; }` but bootstrap.min.css set `[hidden] { display: none !important; }` so we also need the `!important` here to be able to override the default hidden behavior on the sphinx rendered scikit-learn.org. See: https://github.com/scikit-learn/scikit-learn/issues/21755 */display: inline-block !important;position: relative;}#sk-container-id-1 div.sk-text-repr-fallback {display: none;}</style><div id=\"sk-container-id-1\" class=\"sk-top-container\"><div class=\"sk-text-repr-fallback\"><pre>LinearRegression()</pre><b>In a Jupyter environment, please rerun this cell to show the HTML representation or trust the notebook. <br />On GitHub, the HTML representation is unable to render, please try loading this page with nbviewer.org.</b></div><div class=\"sk-container\" hidden><div class=\"sk-item\"><div class=\"sk-estimator sk-toggleable\"><input class=\"sk-toggleable__control sk-hidden--visually\" id=\"sk-estimator-id-1\" type=\"checkbox\" checked><label for=\"sk-estimator-id-1\" class=\"sk-toggleable__label sk-toggleable__label-arrow\">LinearRegression</label><div class=\"sk-toggleable__content\"><pre>LinearRegression()</pre></div></div></div></div></div>"
      ],
      "text/plain": [
       "LinearRegression()"
      ]
     },
     "execution_count": 27,
     "metadata": {},
     "output_type": "execute_result"
    }
   ],
   "source": [
    "MLR_model1=LinearRegression()\n",
    "MLR_model1.fit(x_train,y_train)\n"
   ]
  },
  {
   "cell_type": "code",
   "execution_count": 28,
   "id": "06785a7d-388f-44da-9494-eeb51a78572e",
   "metadata": {},
   "outputs": [],
   "source": [
    "prediction=MLR_model1.predict(x_test)"
   ]
  },
  {
   "cell_type": "code",
   "execution_count": 32,
   "id": "7d21837d-7eac-47c6-822a-a99dc6bab85d",
   "metadata": {},
   "outputs": [],
   "source": [
    "from sklearn.metrics import mean_squared_error,r2_score"
   ]
  },
  {
   "cell_type": "code",
   "execution_count": 30,
   "id": "a2bf0cbd-68f3-4a03-bf33-3025e98f9303",
   "metadata": {},
   "outputs": [],
   "source": [
    "mse = mean_squared_error(y_test, prediction)\n"
   ]
  },
  {
   "cell_type": "code",
   "execution_count": 31,
   "id": "69337e48-4a33-44c4-9e69-9f9c464004db",
   "metadata": {},
   "outputs": [
    {
     "data": {
      "text/plain": [
       "2.4349676483325893e-21"
      ]
     },
     "execution_count": 31,
     "metadata": {},
     "output_type": "execute_result"
    }
   ],
   "source": [
    "mse\n"
   ]
  },
  {
   "cell_type": "code",
   "execution_count": 33,
   "id": "40b2743c-cf9f-49d2-9e1b-83697e33ce99",
   "metadata": {},
   "outputs": [
    {
     "data": {
      "text/plain": [
       "1.0"
      ]
     },
     "execution_count": 33,
     "metadata": {},
     "output_type": "execute_result"
    }
   ],
   "source": [
    "r2_score = r2_score(prediction, y_test)\n",
    "r2_score"
   ]
  },
  {
   "cell_type": "code",
   "execution_count": 34,
   "id": "958967c3-601a-4442-9398-f8c81baad454",
   "metadata": {},
   "outputs": [
    {
     "data": {
      "text/plain": [
       "11734       43.01\n",
       "4867     34017.08\n",
       "21215    53103.34\n",
       "28283    46702.40\n",
       "2493     21609.04\n",
       "           ...   \n",
       "11840    14553.29\n",
       "38478    38087.25\n",
       "11988    30602.14\n",
       "44683    29859.58\n",
       "2109      1539.93\n",
       "Name: Total_Benefits, Length: 14939, dtype: float64"
      ]
     },
     "execution_count": 34,
     "metadata": {},
     "output_type": "execute_result"
    }
   ],
   "source": [
    "y_test"
   ]
  },
  {
   "cell_type": "code",
   "execution_count": 35,
   "id": "9705c57f-5e88-4b17-9096-ade6894d53f0",
   "metadata": {},
   "outputs": [
    {
     "data": {
      "text/plain": [
       "array([4.301000e+01, 3.401708e+04, 5.310334e+04, ..., 3.060214e+04,\n",
       "       2.985958e+04, 1.539930e+03])"
      ]
     },
     "execution_count": 35,
     "metadata": {},
     "output_type": "execute_result"
    }
   ],
   "source": [
    "prediction"
   ]
  },
  {
   "cell_type": "code",
   "execution_count": null,
   "id": "87c0af64-1d93-4428-baf3-72d814fc84c4",
   "metadata": {},
   "outputs": [],
   "source": []
  }
 ],
 "metadata": {
  "kernelspec": {
   "display_name": "Python 3 (ipykernel)",
   "language": "python",
   "name": "python3"
  },
  "language_info": {
   "codemirror_mode": {
    "name": "ipython",
    "version": 3
   },
   "file_extension": ".py",
   "mimetype": "text/x-python",
   "name": "python",
   "nbconvert_exporter": "python",
   "pygments_lexer": "ipython3",
   "version": "3.11.4"
  }
 },
 "nbformat": 4,
 "nbformat_minor": 5
}
